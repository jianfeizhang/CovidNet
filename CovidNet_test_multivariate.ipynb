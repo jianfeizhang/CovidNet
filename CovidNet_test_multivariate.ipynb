{
 "cells": [
  {
   "cell_type": "code",
   "execution_count": 1,
   "metadata": {
    "colab": {
     "base_uri": "https://localhost:8080/",
     "height": 187
    },
    "colab_type": "code",
    "id": "EEq6d7AUa9Wp",
    "outputId": "d490ea40-c639-45ef-9ce9-6071e4247065"
   },
   "outputs": [],
   "source": [
    "import os\n",
    "import sys\n",
    "sys.path.insert(0, \"../name-package/\")\n",
    "from io import StringIO\n",
    "import requests\n",
    "from datetime import datetime, timedelta\n",
    "import numpy as np\n",
    "import pandas as pd\n",
    "import plotly.express as px\n",
    "from matplotlib import pyplot as plt\n",
    "from measure import MAE, MAPE\n",
    "from sklearn.preprocessing import MinMaxScaler\n",
    "from tcn import TCN\n",
    "from tensorflow.keras import Input, Model, Sequential, layers, metrics\n",
    "my_seed = 2\n",
    "np.random.seed(my_seed)\n",
    "import random\n",
    "random.seed(my_seed)\n",
    "import tensorflow as tf\n",
    "tf.random.set_seed(my_seed)"
   ]
  },
  {
   "cell_type": "code",
   "execution_count": 2,
   "metadata": {},
   "outputs": [],
   "source": [
    "def load_OxCGRT():\n",
    "    path = 'https://raw.githubusercontent.com/OxCGRT/covid-policy-tracker/master/data/OxCGRT_latest.csv'\n",
    "    d = pd.read_csv(path, parse_dates=['Date'], low_memory=False)\n",
    "    index_cols = ['Country_Region', 'Province_State']\n",
    "    d.rename(columns={'CountryName': index_cols[0], 'RegionName': index_cols[1]}, inplace=True)\n",
    "    d[index_cols[0]] = d[[index_cols[0]]].fillna('')\n",
    "    d[index_cols[1]] = d[[index_cols[1]]].fillna('')\n",
    "    d['Cases'], d['Deaths'] = d.ConfirmedCases.fillna(0), d.ConfirmedDeaths.fillna(0)\n",
    "    d['Date'] = pd.to_datetime(d['Date'], format='%m/%d/%y')\n",
    "    #weekday: Mon=1, Tue=2, ...., Sun=7 \n",
    "    d[\"weekday\"] = d['Date'].dt.dayofweek + 1    \n",
    "    d = d.set_index(index_cols+['weekday', 'Date'])   \n",
    "    return d"
   ]
  },
  {
   "cell_type": "code",
   "execution_count": 3,
   "metadata": {},
   "outputs": [],
   "source": [
    "def load_mobility():\n",
    "    orig_url='https://drive.google.com/file/d/1qeoJdMlF9lzwXUmNMWgglozxVoZaR12D/view?usp=sharing'\n",
    "    file_id = orig_url.split('/')[-2]\n",
    "    dwn_url='https://drive.google.com/uc?export=download&id=' + file_id\n",
    "    url = requests.get(dwn_url).text\n",
    "    csv_raw = StringIO(url)\n",
    "    d = pd.read_csv(csv_raw, parse_dates=['Date'], low_memory=False)\n",
    "    d = d.set_index('Date')\n",
    "    return d"
   ]
  },
  {
   "cell_type": "code",
   "execution_count": 4,
   "metadata": {},
   "outputs": [],
   "source": [
    "def view_data(d, target, date_col):\n",
    "    fig = px.line(d[target], x=d.index.get_level_values(date_col), y=target[0], color_discrete_sequence=px.colors.qualitative.Dark2)\n",
    "    fig.update_layout(xaxis=dict(title='Time (Weekly)'), yaxis=dict(title='Weekly Total '+ target[0]))\n",
    "    fig.update_traces(mode='markers+lines')\n",
    "    fig.layout.template = 'plotly_white'\n",
    "    fig.show()"
   ]
  },
  {
   "cell_type": "code",
   "execution_count": 5,
   "metadata": {},
   "outputs": [],
   "source": [
    "def Series2Xy(d, target, var, sliding_steps, lookback_steps, gap, output_steps, is_multi_var):\n",
    "    '''\n",
    "    Transform the time series to supervised data \n",
    "        - d: dataframe\n",
    "        - target: the target to predict, a 1D list of column name in df, e.g., ['Cases']\n",
    "        - var: the list of covariates\n",
    "        - silding_steps: the steps that sliding window moves forward\n",
    "        - lookback_steps: how many previous steps used, e.g., using X = [1, 2, 3] to predict y = [1, 2], 3 lookback_steps\n",
    "        - gap: the steps between X and y\n",
    "        - output_steps: how long the output y is, e.g., y = [1, 2] means 2 output_steps \n",
    "        - is_multi_var: if using multivariate or univariate\n",
    "    '''\n",
    "    X, y = [], []\n",
    "    d_target = np.array(d[target])\n",
    "    for i in range(lookback_steps + (gap - 1) + output_steps, len(d), sliding_steps):\n",
    "        X_target = d_target[i - lookback_steps - (gap - 1) - output_steps: i - (gap - 1) - output_steps]\n",
    "        if is_multi_var:\n",
    "            X_var = np.array(d[var])[i - lookback_steps - (gap - 1) - output_steps: i - (gap - 1) - output_steps]\n",
    "        else:\n",
    "            X_var = np.array([], dtype=np.int64).reshape(lookback_steps, 0)\n",
    "        X.append(np.concatenate((X_var, X_target), axis=1))\n",
    "        y.append(d_target[i - output_steps + 1:i + 1])\n",
    "    X = np.array(X)\n",
    "    y = np.array(y)\n",
    "    y = y.reshape(y.shape[0], y.shape[1])\n",
    "    return X, y"
   ]
  },
  {
   "cell_type": "code",
   "execution_count": 6,
   "metadata": {},
   "outputs": [],
   "source": [
    "def SeriesSplit(d, date_col, train_size, test_size, end_date_of_known_data, sliding_steps, lookback_steps, gap, pred_steps, interval = 1):\n",
    "    '''\n",
    "    Split time-series to training and test sets\n",
    "        - d: dataframe\n",
    "        - date_col: date column name\n",
    "        - train_size: the number of training samples\n",
    "        - test_size: the number of test samples\n",
    "        - end_date_of_known_data: the last day of known data\n",
    "        - silding_steps: the steps that sliding window moves forward\n",
    "        - lookback_steps: how many previous steps used, e.g., using X = [1, 2, 3] to predict y = [1, 2], 3 lookback_steps\n",
    "        - gap: the steps between X and y\n",
    "        - pred_steps: the total steps to predict\n",
    "        - scaler: the normalization method\n",
    "        - interval: the date interval, default value of 1, taking 7 for in our weekly prediction task\n",
    "    '''\n",
    "    sliding_steps, lookback_steps, gap, pred_steps = sliding_steps * interval, lookback_steps * interval, gap * interval, pred_steps * interval\n",
    "    file_start_date, file_end_date = d.index.get_level_values(date_col).min(), d.index.get_level_values(date_col).max()\n",
    "    if end_date_of_known_data > file_end_date or end_date_of_known_data < file_start_date:\n",
    "        end_date_of_known_data = file_end_date\n",
    "    if test_size <= 0:\n",
    "        train_end_date = end_date_of_known_data\n",
    "        d_test = None\n",
    "    else:\n",
    "        d_test = d[d.index.get_level_values(date_col) <= end_date_of_known_data]\n",
    "        test_start_date = d_test.index.get_level_values(date_col).max() - timedelta(lookback_steps + gap + pred_steps - interval) - timedelta((test_size - 1) * sliding_steps)\n",
    "        train_end_date = test_start_date - timedelta(sliding_steps) + timedelta(lookback_steps + gap + pred_steps - interval)\n",
    "        d_test = d_test[d_test.index.get_level_values(date_col) >= test_start_date]\n",
    "    train_start_date = train_end_date - timedelta(lookback_steps + gap + pred_steps - interval) - timedelta((train_size - interval) * sliding_steps)\n",
    "    if train_start_date < file_start_date:\n",
    "        train_start_date = file_start_date\n",
    "    d_train = d[(d.index.get_level_values(date_col) >= train_start_date) & (d.index.get_level_values(date_col) <= train_end_date)]\n",
    "    return d_train, d_test"
   ]
  },
  {
   "cell_type": "code",
   "execution_count": 7,
   "metadata": {},
   "outputs": [],
   "source": [
    "def direcursive_predict(models, d, date_col, target, var, lookback_steps, output_steps, pred_steps, is_multi_var, scaler, interval = 1):\n",
    "    '''\n",
    "    - d: input data including the input data and dates to predict\n",
    "    - date_col: date column name\n",
    "    - target: target numbers\n",
    "    - var: covariate columns\n",
    "    - lookback_steps: previous steps used as the input X of the model\n",
    "    - output_steps: the length of the output y\n",
    "    - pred_steps: how far future to predict\n",
    "    - is_multi_var: using multivariate or univariate\n",
    "    - scaler: the normalization method\n",
    "    - interval: the date interval, default value of 1, taking 7 for in our weekly prediction task\n",
    "    '''\n",
    "    past_target = d.iloc[:lookback_steps][target]\n",
    "    current_date = d.index.get_level_values(date_col).min() + timedelta((lookback_steps - 1) * interval)\n",
    "    end_date = current_date + timedelta(pred_steps * interval)\n",
    "    preds = []\n",
    "    if is_multi_var:\n",
    "        future_vars = d[var]\n",
    "        past_vars = d.iloc[:lookback_steps][var]\n",
    "        days_ahead = lookback_steps\n",
    "        while current_date < end_date:\n",
    "            X_vars = past_vars[-lookback_steps:]\n",
    "            pred_batch = recursive_predict(models, X_vars, past_target, lookback_steps, output_steps)\n",
    "            preds.append(pred_batch)\n",
    "            past_target = np.concatenate([past_target, pred_batch])\n",
    "            current_date = current_date + timedelta(pred_batch.shape[0] * interval)\n",
    "            past_vars = np.append(past_vars, future_vars[days_ahead:days_ahead + pred_batch.shape[0]], axis=0)\n",
    "            days_ahead += pred_batch.shape[0]\n",
    "    else:\n",
    "        while current_date < end_date:\n",
    "            X_vars = np.array([], dtype=np.int64).reshape(lookback_steps, 0)\n",
    "            pred_batch = recursive_predict(models, X_vars, past_target, lookback_steps, output_steps)\n",
    "            preds.append(pred_batch)\n",
    "            past_target = np.concatenate([past_target, pred_batch])\n",
    "            current_date = current_date + timedelta(pred_batch.shape[0] * interval)\n",
    "    d_pred = d.iloc[lookback_steps:, ].copy()\n",
    "    d_pred[target[0]] = np.concatenate(preds)[:pred_steps]\n",
    "    d_pred_inv = pd.DataFrame(scaler.inverse_transform(d_pred), index=d_pred.index, columns=d_pred.columns)\n",
    "    return d_pred_inv"
   ]
  },
  {
   "cell_type": "code",
   "execution_count": 8,
   "metadata": {},
   "outputs": [],
   "source": [
    "def recursive_predict(models, X_vars, past_target, lookback_steps, output_steps):\n",
    "    X, pred_batch = [], []\n",
    "    X_target = past_target[-lookback_steps:]\n",
    "    X.append(np.concatenate((X_target, X_vars), axis=1))\n",
    "    for model in models:\n",
    "        pred = model.predict(np.array(X))\n",
    "        pred = pred.reshape(output_steps, 1)\n",
    "        pred_batch.append(pred)\n",
    "    return np.array(np.concatenate(pred_batch, axis=0))"
   ]
  },
  {
   "cell_type": "code",
   "execution_count": 9,
   "metadata": {},
   "outputs": [],
   "source": [
    "def build_model(X, y, lookback_steps, output_steps, epochs):\n",
    "    i = Input(shape=(lookback_steps, X.shape[2]))\n",
    "    o = TCN()(i)\n",
    "    #o = layers.Dense(10, activation='relu')(o)\n",
    "    o = layers.Dense(output_steps, activation='sigmoid')(o)\n",
    "    model = Model(inputs=[i], outputs=[o])\n",
    "    optimizer = tf.optimizers.Adam()\n",
    "    model.compile(optimizer=optimizer, loss=\"mae\")\n",
    "    history = model.fit(X, y, epochs=epochs, batch_size=batch_size, verbose=0, shuffle=False)\n",
    "    plt.plot(history.history['loss'])\n",
    "    plt.show()\n",
    "    return model"
   ]
  },
  {
   "cell_type": "code",
   "execution_count": 10,
   "metadata": {},
   "outputs": [],
   "source": [
    "def train(df):\n",
    "    models = []\n",
    "    for m in range(num_models):\n",
    "        # the m-th model for m-week ahead prediction, gap = m in Series2Xy function\n",
    "        X, y = Series2Xy(df, target, var, sliding_steps, lookback_steps, m, output_steps, is_multi_var)\n",
    "        models.append(build_model(X, y, lookback_steps, output_steps, epochs))\n",
    "    return models"
   ]
  },
  {
   "cell_type": "code",
   "execution_count": 11,
   "metadata": {},
   "outputs": [],
   "source": [
    "def test(d, d_scaled, models):\n",
    "    sum_mape = 0\n",
    "    print('Test Results for %d test sample(s):\\n'% test_size)\n",
    "    for i in range(test_size):\n",
    "        start_index = i * sliding_steps\n",
    "        end_index = start_index + lookback_steps + gap + pred_steps\n",
    "        d_pred_inv = direcursive_predict(models, d_scaled.iloc[start_index:end_index,], date_col, target, var, lookback_steps, output_steps, pred_steps, is_multi_var, scaler, interval)\n",
    "        d_sub = d.iloc[start_index+lookback_steps:end_index,]\n",
    "        d_compare = d_sub.copy()\n",
    "        d_compare['Predicted'] = d_pred_inv[target[0]].values\n",
    "        display(d_compare[target+['Predicted']])\n",
    "        mape = MAPE([d_sub.iloc[-1][target[0]]], [d_pred_inv.iloc[-1][target[0]]])\n",
    "        sum_mape += mape\n",
    "    print(\"%d-week ahead prediction MAPE is %.3f%%\" % (pred_steps, sum_mape/test_size))"
   ]
  },
  {
   "cell_type": "code",
   "execution_count": 12,
   "metadata": {},
   "outputs": [],
   "source": [
    "def preprocess(d_CA, d_US, d_mob):\n",
    "    df = d_CA[target].copy()\n",
    "    var = []\n",
    "    if is_var_non_target:\n",
    "        df[var_non_target] = d_CA[var_non_target].values\n",
    "        var += var_non_target\n",
    "    if is_var_US_cases:\n",
    "        df[[all_targets[0]+'_US']] = d_US[all_targets[0]].values\n",
    "        var += var_US_cases\n",
    "    if is_var_US_deaths:\n",
    "        df[[all_targets[-1]+'_US']] = d_US[all_targets[-1]].values\n",
    "        var += var_US_deaths\n",
    "    if is_var_policy:\n",
    "        df[var_policy] = d_CA[var_policy].values\n",
    "        df.update(df[var_policy].fillna(method = 'ffill'))\n",
    "        df[var_policy] = df[var_policy].cumsum()\n",
    "        var += var_policy\n",
    "    if is_var_mob:\n",
    "        d_mob = load_mobility()\n",
    "        append_dates = pd.date_range(d_mob.index.get_level_values(date_col).max() + timedelta(days=1), df.index.get_level_values(date_col).max(), freq='d')\n",
    "        d_mob = d_mob.append(pd.DataFrame(np.nan, index = append_dates, columns = var_mob), ignore_index=False)\n",
    "        d_mob.index.name = date_col\n",
    "        df=df[df.index.get_level_values(date_col)>=d_mob.index.get_level_values(date_col).min()]\n",
    "        df[var_mob] = d_mob[var_mob].values\n",
    "        df.update(df[var_mob].fillna(method = 'ffill'))\n",
    "        df[var_mob] = df[var_mob].cumsum()\n",
    "        # shift the mobility data\n",
    "        df[var_mob] = df[var_mob].shift(interval)\n",
    "        var += var_mob\n",
    "    # Get all known data\n",
    "    df = df[df.index.get_level_values(date_col) < start_date_forecast]\n",
    "    # Estimate the current Friday's number first !\n",
    "    # Friday is unknown when we get forecasted; Simply, Friday is supposed to have the same number to Thursday (like a persistence prediction; alterantively, we can make a 1-step daily number prediction for the current Friday)\n",
    "    df[target[0]].iloc[-1] = 2 * df[target[0]].iloc[-2] - df[target[0]].iloc[-3]\n",
    "    # Get the total number on every Friday\n",
    "    df = df[df.index.get_level_values('weekday') == end_weekday].fillna(0)\n",
    "    # Get the weekly total number; the week is referred to 7 days from Sat (weekday = 6) to Fri (weekday = 5)\n",
    "    df = df.diff().fillna(0)\n",
    "    return df, var"
   ]
  },
  {
   "cell_type": "code",
   "execution_count": 13,
   "metadata": {},
   "outputs": [],
   "source": [
    "d = load_OxCGRT()\n",
    "d_CA = d[(d.index.get_level_values('Country_Region') == 'Canada') & (d.index.get_level_values('Province_State') == '')]\n",
    "d_US = d[(d.index.get_level_values('Country_Region') == 'United States') & (d.index.get_level_values('Province_State') == '')]\n",
    "d_mob = load_mobility()"
   ]
  },
  {
   "cell_type": "code",
   "execution_count": 14,
   "metadata": {},
   "outputs": [],
   "source": [
    "all_targets = ['Cases', 'Deaths']\n",
    "# target: what to forecast\n",
    "target = [all_targets[0]]\n",
    "\n",
    "# date_col: the name of date column\n",
    "date_col = 'Date'\n",
    "# interval: date interval is 7 days\n",
    "interval = 7\n",
    "# the end day of every week (depending on the prediction task), Friday (5) for our case\n",
    "end_weekday = 5\n",
    "\n",
    "var_non_target = [t for t in all_targets if t not in target]\n",
    "\n",
    "var_US_cases = ['Cases_US']\n",
    "var_US_deaths = ['Deaths_US']\n",
    "\n",
    "var_policy = ['C1_School closing', 'C2_Workplace closing', 'C3_Cancel public events', 'C4_Restrictions on gatherings', 'C5_Close public transport', 'C6_Stay at home requirements', 'C7_Restrictions on internal movement', 'C8_International travel controls', 'H1_Public information campaigns', 'H2_Testing policy', 'H3_Contact tracing', 'H6_Facial Coverings']\n",
    "var_mob = [\n",
    "'retail_and_recreation_percent_change_from_baseline',\n",
    "'grocery_and_pharmacy_percent_change_from_baseline',\n",
    "'parks_percent_change_from_baseline',\n",
    "'transit_stations_percent_change_from_baseline',\n",
    "'residential_percent_change_from_baseline']\n",
    "\n",
    "\n",
    "# end_date_of_known_data: which day is the last day we known the target numbers. It is always Thursday in our case\n",
    "end_date_of_known_data = pd.to_datetime('2021-02-18')\n",
    "\n",
    "# start date to forecast\n",
    "start_date_forecast = pd.to_datetime('2021-02-20')\n",
    "\n",
    "# if to use multivariate\n",
    "is_var_non_target, is_var_US_cases, is_var_US_deaths, is_var_policy, is_var_mob = False, False, False, False, False\n",
    "is_multi_var = is_var_non_target | is_var_US_cases | is_var_US_deaths | is_var_policy | is_var_mob\n",
    "\n",
    "# sliding_steps: how far the sliding window moving forward when we extract all (X, y) from the time series, generally taking value of 1\n",
    "# lookback_steps: how many previous steps that each X includes\n",
    "# gap: the steps between the end of X and the begining of y, generally taking value of 0\n",
    "sliding_steps, lookback_steps, gap, output_steps = 1, 2, 0, 1\n",
    "scaler = MinMaxScaler(feature_range=(0, 1))\n",
    "\n",
    "# test_size: the number of samples for test\n",
    "# train_size is your own choice\n",
    "train_size, test_size = 35, 1\n",
    "epochs, batch_size = 500, train_size\n",
    "output_steps = 1\n",
    "\n",
    "# pred_steps: how far to predict\n",
    "pred_steps = 2\n",
    "num_models = 1"
   ]
  },
  {
   "cell_type": "markdown",
   "metadata": {},
   "source": [
    "num_models is the batch of size of the models. With these batch models, we can perform a direct prediction for num_models-week in future. To make the training and test data applicable for training a num_models-week ahead prediction model, gap takes a value num_models-1 in SeriesSplit function  \n"
   ]
  },
  {
   "cell_type": "code",
   "execution_count": 15,
   "metadata": {},
   "outputs": [],
   "source": [
    "df, var = preprocess(d_CA, d_US, d_mob)\n",
    "if is_multi_var:\n",
    "    # shift the variates\n",
    "    df[var] = df[var].shift(pred_steps - num_models)\n",
    "    df= df.iloc[pred_steps - num_models*output_steps:]\n",
    "    #shift_dates = pd.date_range(df.index.get_level_values(date_col).max() + timedelta(days = (pred_steps - num_models + 1) * interval), df.index.get_level_values(date_col).max(), freq='d')\n",
    "# get trainining and test datasets\n",
    "df_train, df_test = SeriesSplit(df, date_col, train_size, test_size, end_date_of_known_data, sliding_steps, lookback_steps, 0, pred_steps, interval)\n",
    "# normalize the training set\n",
    "df_train_scaled = pd.DataFrame(scaler.fit_transform(df_train), index=df_train.index, columns=df_train.columns)\n",
    "df_test_scaled = pd.DataFrame(scaler.transform(df_test), index=df_test.index, columns=df_test.columns)"
   ]
  },
  {
   "cell_type": "code",
   "execution_count": 16,
   "metadata": {},
   "outputs": [
    {
     "data": {
      "image/png": "[encoded data removed]",
      "text/plain": [
       "<Figure size 432x288 with 1 Axes>"
      ]
     },
     "metadata": {
      "needs_background": "light"
     },
     "output_type": "display_data"
    },
    {
     "data": {
      "image/png": "[encoded data removed]",
      "text/plain": [
       "<Figure size 432x288 with 1 Axes>"
      ]
     },
     "metadata": {
      "needs_background": "light"
     },
     "output_type": "display_data"
    },
    {
     "data": {
      "image/png": "[encoded data removed]",
      "text/plain": [
       "<Figure size 432x288 with 1 Axes>"
      ]
     },
     "metadata": {
      "needs_background": "light"
     },
     "output_type": "display_data"
    },
    {
     "data": {
      "image/png": "[encoded data removed]",
      "text/plain": [
       "<Figure size 432x288 with 1 Axes>"
      ]
     },
     "metadata": {
      "needs_background": "light"
     },
     "output_type": "display_data"
    },
    {
     "name": "stdout",
     "output_type": "stream",
     "text": [
      "Test Results for 1 test sample(s):\n",
      "\n"
     ]
    },
    {
     "data": {
      "text/html": [
       "<div>\n",
       "<style scoped>\n",
       "    .dataframe tbody tr th:only-of-type {\n",
       "        vertical-align: middle;\n",
       "    }\n",
       "\n",
       "    .dataframe tbody tr th {\n",
       "        vertical-align: top;\n",
       "    }\n",
       "\n",
       "    .dataframe thead th {\n",
       "        text-align: right;\n",
       "    }\n",
       "</style>\n",
       "<table border=\"1\" class=\"dataframe\">\n",
       "  <thead>\n",
       "    <tr style=\"text-align: right;\">\n",
       "      <th></th>\n",
       "      <th></th>\n",
       "      <th></th>\n",
       "      <th></th>\n",
       "      <th>Cases</th>\n",
       "      <th>Predicted</th>\n",
       "    </tr>\n",
       "    <tr>\n",
       "      <th>Country_Region</th>\n",
       "      <th>Province_State</th>\n",
       "      <th>weekday</th>\n",
       "      <th>Date</th>\n",
       "      <th></th>\n",
       "      <th></th>\n",
       "    </tr>\n",
       "  </thead>\n",
       "  <tbody>\n",
       "    <tr>\n",
       "      <th rowspan=\"4\" valign=\"top\">Canada</th>\n",
       "      <th rowspan=\"4\" valign=\"top\"></th>\n",
       "      <th rowspan=\"4\" valign=\"top\">5</th>\n",
       "      <th>2021-01-22</th>\n",
       "      <td>41730.0</td>\n",
       "      <td>37141.750000</td>\n",
       "    </tr>\n",
       "    <tr>\n",
       "      <th>2021-01-29</th>\n",
       "      <td>33384.0</td>\n",
       "      <td>36672.484375</td>\n",
       "    </tr>\n",
       "    <tr>\n",
       "      <th>2021-02-05</th>\n",
       "      <td>26878.0</td>\n",
       "      <td>28241.648438</td>\n",
       "    </tr>\n",
       "    <tr>\n",
       "      <th>2021-02-12</th>\n",
       "      <td>22081.0</td>\n",
       "      <td>33653.441406</td>\n",
       "    </tr>\n",
       "  </tbody>\n",
       "</table>\n",
       "</div>"
      ],
      "text/plain": [
       "                                                    Cases     Predicted\n",
       "Country_Region Province_State weekday Date                             \n",
       "Canada                        5       2021-01-22  41730.0  37141.750000\n",
       "                                      2021-01-29  33384.0  36672.484375\n",
       "                                      2021-02-05  26878.0  28241.648438\n",
       "                                      2021-02-12  22081.0  33653.441406"
      ]
     },
     "metadata": {},
     "output_type": "display_data"
    },
    {
     "name": "stdout",
     "output_type": "stream",
     "text": [
      "4-week ahead prediction MAPE is 52.409%\n"
     ]
    }
   ],
   "source": [
    "models = train(df_train_scaled)\n",
    "test(df_test, df_test_scaled, models)"
   ]
  },
  {
   "cell_type": "code",
   "execution_count": null,
   "metadata": {},
   "outputs": [],
   "source": []
  },
  {
   "cell_type": "code",
   "execution_count": null,
   "metadata": {},
   "outputs": [],
   "source": []
  }
 ],
 "metadata": {
  "colab": {
   "authorship_tag": "ABX9TyMraTlQ8kv+xnwl20VqvBEw",
   "include_colab_link": true,
   "name": "TCN_TimeSeries Approach.ipynb",
   "provenance": [],
   "toc_visible": true
  },
  "kernelspec": {
   "display_name": "Python 3",
   "language": "python",
   "name": "python3"
  },
  "language_info": {
   "codemirror_mode": {
    "name": "ipython",
    "version": 3
   },
   "file_extension": ".py",
   "mimetype": "text/x-python",
   "name": "python",
   "nbconvert_exporter": "python",
   "pygments_lexer": "ipython3",
   "version": "3.8.5"
  },
  "widgets": {
   "application/vnd.jupyter.widget-state+json": {
    "2e09e1b207e840bca57333c9d7ac6117": {
     "model_module": "@jupyter-widgets/controls",
     "model_name": "HTMLModel",
     "state": {
      "_dom_classes": [],
      "_model_module": "@jupyter-widgets/controls",
      "_model_module_version": "1.5.0",
      "_model_name": "HTMLModel",
      "_view_count": null,
      "_view_module": "@jupyter-widgets/controls",
      "_view_module_version": "1.5.0",
      "_view_name": "HTMLView",
      "description": "",
      "description_tooltip": null,
      "layout": "IPY_MODEL_498b6f8b6789463887b4b3a6f237d924",
      "placeholder": "​",
      "style": "IPY_MODEL_7f5c424416da4871aba7a7c3ad14d68c",
      "value": " 156/156 [03:57&lt;00:00,  1.53s/it]"
     }
    },
    "498b6f8b6789463887b4b3a6f237d924": {
     "model_module": "@jupyter-widgets/base",
     "model_name": "LayoutModel",
     "state": {
      "_model_module": "@jupyter-widgets/base",
      "_model_module_version": "1.2.0",
      "_model_name": "LayoutModel",
      "_view_count": null,
      "_view_module": "@jupyter-widgets/base",
      "_view_module_version": "1.2.0",
      "_view_name": "LayoutView",
      "align_content": null,
      "align_items": null,
      "align_self": null,
      "border": null,
      "bottom": null,
      "display": null,
      "flex": null,
      "flex_flow": null,
      "grid_area": null,
      "grid_auto_columns": null,
      "grid_auto_flow": null,
      "grid_auto_rows": null,
      "grid_column": null,
      "grid_gap": null,
      "grid_row": null,
      "grid_template_areas": null,
      "grid_template_columns": null,
      "grid_template_rows": null,
      "height": null,
      "justify_content": null,
      "justify_items": null,
      "left": null,
      "margin": null,
      "max_height": null,
      "max_width": null,
      "min_height": null,
      "min_width": null,
      "object_fit": null,
      "object_position": null,
      "order": null,
      "overflow": null,
      "overflow_x": null,
      "overflow_y": null,
      "padding": null,
      "right": null,
      "top": null,
      "visibility": null,
      "width": null
     }
    },
    "76367dff33c247d88f1c2240be90a0d7": {
     "model_module": "@jupyter-widgets/base",
     "model_name": "LayoutModel",
     "state": {
      "_model_module": "@jupyter-widgets/base",
      "_model_module_version": "1.2.0",
      "_model_name": "LayoutModel",
      "_view_count": null,
      "_view_module": "@jupyter-widgets/base",
      "_view_module_version": "1.2.0",
      "_view_name": "LayoutView",
      "align_content": null,
      "align_items": null,
      "align_self": null,
      "border": null,
      "bottom": null,
      "display": null,
      "flex": null,
      "flex_flow": null,
      "grid_area": null,
      "grid_auto_columns": null,
      "grid_auto_flow": null,
      "grid_auto_rows": null,
      "grid_column": null,
      "grid_gap": null,
      "grid_row": null,
      "grid_template_areas": null,
      "grid_template_columns": null,
      "grid_template_rows": null,
      "height": null,
      "justify_content": null,
      "justify_items": null,
      "left": null,
      "margin": null,
      "max_height": null,
      "max_width": null,
      "min_height": null,
      "min_width": null,
      "object_fit": null,
      "object_position": null,
      "order": null,
      "overflow": null,
      "overflow_x": null,
      "overflow_y": null,
      "padding": null,
      "right": null,
      "top": null,
      "visibility": null,
      "width": null
     }
    },
    "7f5c424416da4871aba7a7c3ad14d68c": {
     "model_module": "@jupyter-widgets/controls",
     "model_name": "DescriptionStyleModel",
     "state": {
      "_model_module": "@jupyter-widgets/controls",
      "_model_module_version": "1.5.0",
      "_model_name": "DescriptionStyleModel",
      "_view_count": null,
      "_view_module": "@jupyter-widgets/base",
      "_view_module_version": "1.2.0",
      "_view_name": "StyleView",
      "description_width": ""
     }
    },
    "bebf5d0c2d3042f8be7fec73ed15af54": {
     "model_module": "@jupyter-widgets/base",
     "model_name": "LayoutModel",
     "state": {
      "_model_module": "@jupyter-widgets/base",
      "_model_module_version": "1.2.0",
      "_model_name": "LayoutModel",
      "_view_count": null,
      "_view_module": "@jupyter-widgets/base",
      "_view_module_version": "1.2.0",
      "_view_name": "LayoutView",
      "align_content": null,
      "align_items": null,
      "align_self": null,
      "border": null,
      "bottom": null,
      "display": null,
      "flex": null,
      "flex_flow": null,
      "grid_area": null,
      "grid_auto_columns": null,
      "grid_auto_flow": null,
      "grid_auto_rows": null,
      "grid_column": null,
      "grid_gap": null,
      "grid_row": null,
      "grid_template_areas": null,
      "grid_template_columns": null,
      "grid_template_rows": null,
      "height": null,
      "justify_content": null,
      "justify_items": null,
      "left": null,
      "margin": null,
      "max_height": null,
      "max_width": null,
      "min_height": null,
      "min_width": null,
      "object_fit": null,
      "object_position": null,
      "order": null,
      "overflow": null,
      "overflow_x": null,
      "overflow_y": null,
      "padding": null,
      "right": null,
      "top": null,
      "visibility": null,
      "width": null
     }
    },
    "d3193b57a3fd4706bc6dc19aa65b71e1": {
     "model_module": "@jupyter-widgets/controls",
     "model_name": "FloatProgressModel",
     "state": {
      "_dom_classes": [],
      "_model_module": "@jupyter-widgets/controls",
      "_model_module_version": "1.5.0",
      "_model_name": "FloatProgressModel",
      "_view_count": null,
      "_view_module": "@jupyter-widgets/controls",
      "_view_module_version": "1.5.0",
      "_view_name": "ProgressView",
      "bar_style": "success",
      "description": "100%",
      "description_tooltip": null,
      "layout": "IPY_MODEL_bebf5d0c2d3042f8be7fec73ed15af54",
      "max": 156,
      "min": 0,
      "orientation": "horizontal",
      "style": "IPY_MODEL_e18cae27f2d5475e890a64a948429557",
      "value": 156
     }
    },
    "e18cae27f2d5475e890a64a948429557": {
     "model_module": "@jupyter-widgets/controls",
     "model_name": "ProgressStyleModel",
     "state": {
      "_model_module": "@jupyter-widgets/controls",
      "_model_module_version": "1.5.0",
      "_model_name": "ProgressStyleModel",
      "_view_count": null,
      "_view_module": "@jupyter-widgets/base",
      "_view_module_version": "1.2.0",
      "_view_name": "StyleView",
      "bar_color": null,
      "description_width": "initial"
     }
    },
    "f2df124fb46a42d9a8011c589d478eee": {
     "model_module": "@jupyter-widgets/controls",
     "model_name": "HBoxModel",
     "state": {
      "_dom_classes": [],
      "_model_module": "@jupyter-widgets/controls",
      "_model_module_version": "1.5.0",
      "_model_name": "HBoxModel",
      "_view_count": null,
      "_view_module": "@jupyter-widgets/controls",
      "_view_module_version": "1.5.0",
      "_view_name": "HBoxView",
      "box_style": "",
      "children": [
       "IPY_MODEL_d3193b57a3fd4706bc6dc19aa65b71e1",
       "IPY_MODEL_2e09e1b207e840bca57333c9d7ac6117"
      ],
      "layout": "IPY_MODEL_76367dff33c247d88f1c2240be90a0d7"
     }
    }
   }
  }
 },
 "nbformat": 4,
 "nbformat_minor": 4
}
